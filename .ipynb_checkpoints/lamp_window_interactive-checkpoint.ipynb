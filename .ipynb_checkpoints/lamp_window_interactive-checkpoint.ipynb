{
 "cells": [
  {
   "cell_type": "markdown",
   "id": "aboriginal-referral",
   "metadata": {},
   "source": [
    "# Relighting a Real Bedroom Image"
   ]
  },
  {
   "cell_type": "code",
   "execution_count": null,
   "id": "affecting-syracuse",
   "metadata": {},
   "outputs": [],
   "source": [
    "import os, sys, inspect\n",
    "\n",
    "currentdir = os.path.dirname(os.path.abspath(inspect.getfile(inspect.currentframe())))\n",
    "parentdir = os.path.dirname(currentdir)\n",
    "sys.path.insert(0, parentdir) \n",
    "\n",
    "from options.test_options import TestOptions\n",
    "from data.data_loader import CreateDataLoader\n",
    "from models.models import create_model\n",
    "\n",
    "from importlib import reload\n",
    "from rewrite_utils import zdataset, show, labwidget, paintwidget, renormalize, nethook, imgviz, pbar\n",
    "from PIL import Image\n",
    "import numpy as np\n",
    "import torch"
   ]
  },
  {
   "cell_type": "code",
   "execution_count": null,
   "id": "demographic-attack",
   "metadata": {},
   "outputs": [],
   "source": [
    "#load model\n",
    "cmd = ('--name alternate_train_lamp '\n",
    "       '--netG modulated --no_instance ' \n",
    "       '--input_nc 3 ' \n",
    "       '--label_nc 0 ' \n",
    "       '--dataroot /datasets/lsun_bedrooms/ ' \n",
    "       '--which_epoch 500 ').split()\n",
    "\n",
    "opt = TestOptions().parse(save=False, cmd=cmd)\n",
    "model = create_model(opt)"
   ]
  },
  {
   "cell_type": "code",
   "execution_count": null,
   "id": "rapid-agreement",
   "metadata": {},
   "outputs": [],
   "source": [
    "#load image\n",
    "import torchvision.transforms as transforms\n",
    "from data.base_dataset import __scale_width\n",
    "transforms = transforms.Compose([transforms.Lambda(lambda img: __scale_width(img, opt.loadSize)), \n",
    "              transforms.ToTensor(),\n",
    "              transforms.Normalize((0.5, 0.5, 0.5), (0.5, 0.5, 0.5))])\n",
    "\n",
    "#insert path to your image here\n",
    "img_path = 'insert_image_path_here' \n",
    "\n",
    "image = Image.open(img_path).resize((1024, 816), Image.BILINEAR)\n",
    "show(image)\n",
    "baseline = transforms(image.convert('RGB'))\n"
   ]
  },
  {
   "cell_type": "code",
   "execution_count": null,
   "id": "circular-carter",
   "metadata": {},
   "outputs": [],
   "source": [
    "#one channel\n",
    "\n",
    "#widget for controlling lamps and windows\n",
    "\n",
    "reload(labwidget)\n",
    "lamp = labwidget.Range()\n",
    "im = labwidget.Image()\n",
    "lc = labwidget.ColorPicker('#ffffff', desc='lamp light color: ')\n",
    "\n",
    "show([['lamp intensity', lamp, lc, im]])\n",
    "\n",
    "def get_lit_scene(image, frac):\n",
    "    generated = model.inference(image.unsqueeze(0), None, None, amount=frac)\n",
    "    return generated\n",
    "\n",
    "im.render(renormalize.as_image(baseline))\n",
    "\n",
    "def readcolor(value):\n",
    "    try:\n",
    "        floatcolor = [float(int(value[i:i+2], 16))/255.0  for i in [1,3,5]]\n",
    "        color = torch.tensor(floatcolor).float()\n",
    "        if len(color) == 3:\n",
    "            return color\n",
    "    except:\n",
    "        pass\n",
    "    return torch.tensor([1.0, 1.0, 1.0]).float()\n",
    "\n",
    "def newimage():\n",
    "    def norm_value(vals): \n",
    "        return np.array([(float(val) * 2.5 - 100) / 100.0 for val in vals])\n",
    "    \n",
    "    lit_lamp = get_lit_scene(baseline, norm_value([lamp.value])).cpu()\n",
    "    lit_lamp \n",
    "    lamp_light = lit_lamp - baseline\n",
    " \n",
    "    lamp_color = readcolor(lc.value)[:,None,None]\n",
    "    \n",
    "    colored = baseline + (lamp_light * lamp_color)\n",
    "    im.render(renormalize.as_image(colored[0]))\n",
    "\n",
    "lamp.on('value', newimage)\n",
    "lc.on('value', newimage)\n",
    "None"
   ]
  },
  {
   "cell_type": "code",
   "execution_count": null,
   "id": "median-chassis",
   "metadata": {},
   "outputs": [],
   "source": []
  }
 ],
 "metadata": {
  "kernelspec": {
   "display_name": "Python 3",
   "language": "python",
   "name": "python3"
  },
  "language_info": {
   "codemirror_mode": {
    "name": "ipython",
    "version": 3
   },
   "file_extension": ".py",
   "mimetype": "text/x-python",
   "name": "python",
   "nbconvert_exporter": "python",
   "pygments_lexer": "ipython3",
   "version": "3.8.6"
  }
 },
 "nbformat": 4,
 "nbformat_minor": 5
}
