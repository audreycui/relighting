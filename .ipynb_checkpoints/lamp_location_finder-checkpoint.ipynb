{
 "cells": [
  {
   "cell_type": "code",
   "execution_count": null,
   "metadata": {},
   "outputs": [],
   "source": [
    "#get paired pic of light turned on and off\n",
    "#take difference of pics\n",
    "#blur\n",
    "#threshold the blobs\n",
    "#centroid of blobs"
   ]
  },
  {
   "cell_type": "code",
   "execution_count": null,
   "metadata": {
    "scrolled": false
   },
   "outputs": [],
   "source": [
    "import os, sys, inspect\n",
    "\n",
    "currentdir = os.path.dirname(os.path.abspath(inspect.getfile(inspect.currentframe())))\n",
    "parentdir = os.path.dirname(currentdir)\n",
    "sys.path.insert(0, parentdir) \n",
    "\n",
    "from options.test_options import TestOptions\n",
    "from data.data_loader import CreateDataLoader\n",
    "from models.models import create_model\n",
    "\n",
    "from importlib import reload\n",
    "from rewrite_utils import zdataset, show, labwidget, paintwidget, renormalize, nethook, imgviz, pbar\n",
    "from rewrite_utils.stylegan2 import load_seq_stylegan\n",
    "\n",
    "from PIL import Image\n",
    "import numpy as np\n",
    "import torch \n",
    "import torch.nn.functional as F\n",
    "import torchvision.transforms as T"
   ]
  },
  {
   "cell_type": "code",
   "execution_count": null,
   "metadata": {},
   "outputs": [],
   "source": [
    "model = load_seq_stylegan('bedroom', mconv='seq', truncation=0.90)\n",
    "nethook.set_requires_grad(False, model)\n",
    "light_layer = ['layer8']\n",
    "light_unit = [265]\n",
    "frac = [((float(150) * 2 - 100) / 100.0)]"
   ]
  },
  {
   "cell_type": "code",
   "execution_count": null,
   "metadata": {},
   "outputs": [],
   "source": [
    "def get_lit_scene(z, fracs, layers, units):\n",
    "    #TODO: modify for multiple layers\n",
    "    layername = layers[0]\n",
    "    def change_light(output):\n",
    "        for frac, unit in zip(fracs, units): \n",
    "            output.style[:, int(unit)] = 10 * frac\n",
    "        return output\n",
    "    with nethook.Trace(model, f'{layername}.sconv.mconv.modulation', edit_output=change_light):\n",
    "        return model(z)"
   ]
  },
  {
   "cell_type": "code",
   "execution_count": null,
   "metadata": {},
   "outputs": [],
   "source": [
    "#z = torch.load('fixed_z.pt')\n",
    "z = torch.randn(1, 512, device='cuda')\n",
    "original = model(z)[0]\n",
    "show(renormalize.as_image(original))\n",
    "\n",
    "lit = get_lit_scene(z, frac, light_layer, light_unit)[0]\n",
    "show(renormalize.as_image(lit))\n",
    "\n",
    "diff = lit - original\n",
    "show(renormalize.as_image(diff))"
   ]
  },
  {
   "cell_type": "code",
   "execution_count": null,
   "metadata": {},
   "outputs": [],
   "source": [
    "print(torch.max(lit))\n",
    "print(torch.max(original))\n",
    "print(torch.max(diff))"
   ]
  },
  {
   "cell_type": "code",
   "execution_count": null,
   "metadata": {},
   "outputs": [],
   "source": [
    "dim = 7\n",
    "blur_kernel = (1/2**(dim))*torch.ones(dim, dim)\n",
    "blur_kernel = blur_kernel.repeat(1, 3, 1, 1).cuda()\n",
    "blur_conv = F.conv2d(diff.unsqueeze(0), blur_kernel)\n",
    "\n",
    "# blur_kernel = T.GaussianBlur(dim)\n",
    "# gray = torch.mean(diff, dim=0)\n",
    "# blur_conv = blur_kernel(gray.unsqueeze(0).unsqueeze(0))\n",
    "show(renormalize.as_image(blur_conv[0]))\n",
    "thresholded = (blur_conv > 0.7).float() * 1\n",
    "show(renormalize.as_image(thresholded[0]))"
   ]
  },
  {
   "cell_type": "code",
   "execution_count": null,
   "metadata": {},
   "outputs": [],
   "source": [
    "print(torch.max(diff))\n",
    "print(torch.max(blur_conv))"
   ]
  },
  {
   "cell_type": "code",
   "execution_count": null,
   "metadata": {},
   "outputs": [],
   "source": [
    "import os \n",
    "\n",
    "dim = 7\n",
    "blur_kernel = (1/2**(dim))*torch.ones(dim, dim)\n",
    "blur_kernel = blur_kernel.repeat(1, 3, 1, 1).cuda()\n",
    "save_path = \"datasets/mask_testing\"\n",
    "for i in range(100): \n",
    "    print(i)\n",
    "    name = f'{i}.pt'\n",
    "    z = torch.randn(1, 512, device='cuda')\n",
    "    original = model(z)[0]\n",
    "    torch.save(original, os.path.join(save_path, 'original', name))\n",
    "    #show(renormalize.as_image(original))\n",
    "\n",
    "    lit = get_lit_scene(z, [1.5], light_layer, light_unit)[0]\n",
    "    torch.save(lit, os.path.join(save_path, 'activated', name))\n",
    "    #show(renormalize.as_image(lit))\n",
    "\n",
    "    diff = lit - original\n",
    "    #show(renormalize.as_image(diff))\n",
    "    \n",
    "    blur_conv = F.conv2d(diff.unsqueeze(0), blur_kernel)\n",
    "    torch.save(blur_conv[0], os.path.join(save_path, 'blurred', name))\n",
    "    thresholded = (blur_conv > 0.7).float() * 1\n",
    "    thresholded = thresholded[0]\n",
    "    torch.save(thresholded, os.path.join(save_path, 'thresholded', name))\n",
    "    show([(renormalize.as_image(original), \n",
    "         renormalize.as_image(lit),\n",
    "         renormalize.as_image(thresholded))])"
   ]
  },
  {
   "cell_type": "code",
   "execution_count": null,
   "metadata": {},
   "outputs": [],
   "source": []
  }
 ],
 "metadata": {
  "kernelspec": {
   "display_name": "Python 3",
   "language": "python",
   "name": "python3"
  },
  "language_info": {
   "codemirror_mode": {
    "name": "ipython",
    "version": 3
   },
   "file_extension": ".py",
   "mimetype": "text/x-python",
   "name": "python",
   "nbconvert_exporter": "python",
   "pygments_lexer": "ipython3",
   "version": "3.6.8"
  }
 },
 "nbformat": 4,
 "nbformat_minor": 5
}