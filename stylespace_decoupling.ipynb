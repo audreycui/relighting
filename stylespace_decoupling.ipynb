{
 "cells": [
  {
   "cell_type": "code",
   "execution_count": null,
   "id": "ad21e2ef",
   "metadata": {},
   "outputs": [],
   "source": [
    "import torch\n",
    "from rewrite_utils import zdataset, show, labwidget, paintwidget, renormalize, nethook, imgviz, pbar, smoothing\n",
    "from torchvision.transforms import Compose, Resize, CenterCrop, ToTensor, Normalize\n",
    "from PIL import Image\n",
    "from rewrite_utils.stylegan2 import load_seq_stylegan\n",
    "import copy, contextlib\n",
    "from rewrite_utils.stylegan2.models import DataBag\n",
    "\n",
    "import torch.nn.functional as F\n"
   ]
  },
  {
   "cell_type": "code",
   "execution_count": null,
   "id": "4936116d",
   "metadata": {},
   "outputs": [],
   "source": [
    "class ApplyMaskedStyle(torch.nn.Module):\n",
    "    def __init__(self, mask, frac):\n",
    "        super().__init__()\n",
    "        self.register_buffer('mask', mask)\n",
    "        #self.register_buffer('fixed_style', fixed_style)\n",
    "        self.unit = 265\n",
    "        self.frac = frac\n",
    "        \n",
    "    def forward(self, d):\n",
    "        modulation_light = d.style.detach().clone() \n",
    "        modulation_light[:, self.unit] = self.frac\n",
    "        \n",
    "        modulation_no_light = d.style.detach().clone()        \n",
    "        #modulation_no_light[:, self.unit] = 0\n",
    "        \n",
    "        modulation = (modulation_light[:,:,None,None] * self.mask) + (\n",
    "            modulation_no_light[:,:,None,None] * (1 - self.mask))\n",
    "        return DataBag(d, fmap=modulation * d.fmap,\n",
    "             style=d.style)\n",
    "    \n",
    "def make_masked_stylegan(gan_model, initial_z, mask_url, frac):\n",
    "    '''\n",
    "    Given a stylegan and a mask (encoded as a PNG) and an initial z,\n",
    "    creates a modified stylegan which applies z only to a masked\n",
    "    region.\n",
    "    '''\n",
    "    layer = 'layer8.sconv.mconv.adain'\n",
    "    \n",
    "    with torch.no_grad():\n",
    "        style_layers = [n for n, _ in gan_model.named_modules() if 'adain' in n]\n",
    "        with contextlib.ExitStack() as stack:\n",
    "            retained_inputs = {\n",
    "                layer: stack.enter_context(nethook.Trace(gan_model, layer, retain_input=True))\n",
    "                for layer in style_layers}\n",
    "            gan_model(initial_z)\n",
    "            style_vectors = {layer: retained_inputs[layer].input.style\n",
    "                             for layer in style_layers}\n",
    "            style_shapes = {layer: retained_inputs[layer].output.fmap.shape\n",
    "                             for layer in style_layers}\n",
    "        masked_model = copy.deepcopy(gan_model)\n",
    "        device = next(masked_model.parameters()).device\n",
    "\n",
    "        parent = nethook.get_module(masked_model, layer[:-len('.adain')])\n",
    "        #vec = style_vectors[layer].to(device)\n",
    "        shape = style_shapes[layer][-2:]\n",
    "        downsize = Resize(shape)\n",
    "\n",
    "        mask = mask_url[None, None, :, :]\n",
    "        mask = downsize(mask)\n",
    "        #print(mask.shape)\n",
    "        \n",
    "        if shape[0] > 16:\n",
    "            sigma = float(shape[0]) / 16#16.0\n",
    "            kernel_size = (int(sigma) * 2 - 1)\n",
    "            blur = smoothing.GaussianSmoothing(1, kernel_size, sigma=sigma)\n",
    "            mask = blur(mask)\n",
    "        mask = mask[0, 0].to(device)\n",
    "\n",
    "\n",
    "        #frac = -5\n",
    "        parent.adain = ApplyMaskedStyle(mask, frac)\n",
    "    return masked_model\n",
    "\n"
   ]
  },
  {
   "cell_type": "code",
   "execution_count": null,
   "id": "8c58fe70",
   "metadata": {},
   "outputs": [],
   "source": [
    "gan_model = load_seq_stylegan('bedroom', mconv='seq', truncation=0.90)\n",
    "nethook.set_requires_grad(False, gan_model)\n",
    "zds = zdataset.z_dataset_for_model(gan_model, size=1000)\n",
    "\n",
    "image_number=41\n",
    "z = zds[image_number][0][None].cuda()\n",
    "with torch.no_grad(): \n",
    "    original = gan_model(z)[0]"
   ]
  },
  {
   "cell_type": "code",
   "execution_count": null,
   "id": "3bc0572a",
   "metadata": {},
   "outputs": [],
   "source": [
    "PW = paintwidget.PaintWidget(image=renormalize.as_url(\n",
    "    gan_model(z)[0]))\n",
    "def do_reset():\n",
    "    PW.mask = ''\n",
    "RB = labwidget.Button('reset').on('click', do_reset)\n",
    "show([PW, RB])"
   ]
  },
  {
   "cell_type": "code",
   "execution_count": null,
   "id": "73582cf4",
   "metadata": {},
   "outputs": [],
   "source": [
    "mask = PW.mask\n",
    "#initial_z = torch.randn(1, 512, device='cuda')\n",
    "masked_model = make_masked_stylegan(\n",
    "                gan_model, z, mask)"
   ]
  },
  {
   "cell_type": "code",
   "execution_count": null,
   "id": "38b3021d",
   "metadata": {
    "scrolled": true
   },
   "outputs": [],
   "source": [
    "with torch.no_grad(): \n",
    "    one_light = masked_model(z)[0]\n",
    "    original = gan_model(z)[0]\n",
    "show([(renormalize.as_image(one_light), renormalize.as_image(original))])\n"
   ]
  },
  {
   "cell_type": "code",
   "execution_count": null,
   "id": "b9c96f59",
   "metadata": {},
   "outputs": [],
   "source": [
    "from rewrite_utils.segmenter import load_segmenter\n",
    "from importlib import reload\n",
    "from rewrite_utils import imgviz\n",
    "\n",
    "segmodel, seglabels = load_segmenter()\n"
   ]
  },
  {
   "cell_type": "code",
   "execution_count": null,
   "id": "c4fdc037",
   "metadata": {},
   "outputs": [],
   "source": [
    "with torch.no_grad():\n",
    "    seg = segmodel.segment_batch(original.unsqueeze(0))\n",
    "\n",
    "reload(imgviz)\n",
    "iv = imgviz.ImageVisualizer(256)\n",
    "show([[iv.segmentation(seg[0][0])], iv.segment_key(seg[0,0], segmodel)])\n",
    "mask = (seg[0][0] == 21).float().cpu()\n",
    "#mask = renormalize.as_url(mask)\n",
    "print(mask.shape)"
   ]
  },
  {
   "cell_type": "code",
   "execution_count": null,
   "id": "2154c05f",
   "metadata": {},
   "outputs": [],
   "source": [
    "dim = 11\n",
    "blur_kernel = (1/2**(dim))*torch.ones(dim, dim)\n",
    "blur_kernel = blur_kernel[None, None]\n",
    "#blur_kernel = blur_kernel.repeat(1, 1, 1, 1).cuda()\n",
    "\n",
    "# blur_conv = F.conv2d(mask[None, None], blur_kernel, padding=5).squeeze()\n",
    "# print(blur_conv.shape)\n",
    "# blur_conv[blur_conv!=0] = 1\n"
   ]
  },
  {
   "cell_type": "code",
   "execution_count": null,
   "id": "bf2a8613",
   "metadata": {},
   "outputs": [],
   "source": [
    "masked_model = make_masked_stylegan(\n",
    "                gan_model, z, blur_conv)"
   ]
  },
  {
   "cell_type": "code",
   "execution_count": null,
   "id": "1a115fb2",
   "metadata": {},
   "outputs": [],
   "source": [
    "import numpy as np\n",
    "import cv2\n",
    "\n",
    "def get_max_lamp(seg): #gets x,y coordinates of largest lamp\n",
    "    seg = seg.squeeze().int()\n",
    "    \n",
    "    binary_lamps = np.uint8(seg.cpu())\n",
    "    lamp_centroids = []\n",
    "    max_lamps = [] \n",
    " \n",
    "    nb_components, output, stats, centroids = cv2.connectedComponentsWithStats(binary_lamps, connectivity=8)\n",
    "    sizes = stats[:, -1]\n",
    "    \n",
    "    if len(np.unique(output))<=1: #no lamps detected\n",
    "        a = torch.Tensor(np.zeros([seg.shape[1], seg.shape[1]]))\n",
    "        return a \n",
    "\n",
    "    max_label = 1\n",
    "    max_size = sizes[1]\n",
    "    for i in range(2, nb_components):\n",
    "        if sizes[i] > max_size:\n",
    "            max_label = i\n",
    "            max_size = sizes[i]\n",
    "\n",
    "    max_lamp = np.zeros(output.shape)\n",
    "    print('max label', max_label)\n",
    "    max_lamp[output == max_label] = 1\n",
    "\n",
    "    \n",
    "    return torch.from_numpy(max_lamp)\n"
   ]
  },
  {
   "cell_type": "code",
   "execution_count": null,
   "id": "e5d726da",
   "metadata": {},
   "outputs": [],
   "source": [
    "image_numbers = range(25)#  [46] [77] [59] [95]\n",
    "def pilim(idata):\n",
    "    return renormalize.as_image(idata)\n",
    "show([\n",
    "    [pilim(gan_model(zds[i][0][None].cuda())[0]), i]\n",
    "    for i in image_numbers])"
   ]
  },
  {
   "cell_type": "code",
   "execution_count": null,
   "id": "a0b26155",
   "metadata": {},
   "outputs": [],
   "source": [
    "def pilim(idata):\n",
    "    return renormalize.as_image(idata)\n",
    "for i in range(41, 42): \n",
    "    z = zds[i][0][None].cuda()\n",
    "    original = gan_model(z)[0]\n",
    "    with torch.no_grad():\n",
    "        _, lamps = segmodel.predict_single_class(original[None], 21)\n",
    "        seg = 1*lamps\n",
    "        print(seg.shape)\n",
    "        mask = get_max_lamp(seg).float()\n",
    "        #print(mask)\n",
    "        blur_conv = F.conv2d(mask[None, None], blur_kernel, padding=5).squeeze()\n",
    "        blur_conv[blur_conv!=0] = 1\n",
    "        \n",
    "        frac = -10\n",
    "        masked_model = make_masked_stylegan(\n",
    "                gan_model, z, blur_conv, frac)\n",
    "        \n",
    "        edited = masked_model(z)[0]\n",
    "    \n",
    "    show([(pilim(original), pilim(blur_conv[None].repeat(3, 1, 1)), pilim(edited))])\n",
    "        \n",
    "    \n",
    "    \n",
    "    "
   ]
  },
  {
   "cell_type": "code",
   "execution_count": null,
   "id": "ba79aff9",
   "metadata": {},
   "outputs": [],
   "source": [
    "with torch.no_grad():\n",
    "    _, lamps = segmodel.predict_single_class(original[None], 21)\n",
    "    lamps = 1*lamps\n",
    "print(lamps.shape)\n",
    "print(torch.max(lamps))\n",
    "print(torch.min(lamps))"
   ]
  },
  {
   "cell_type": "code",
   "execution_count": null,
   "id": "572ff1be",
   "metadata": {},
   "outputs": [],
   "source": []
  }
 ],
 "metadata": {
  "kernelspec": {
   "display_name": "Python 3 (ipykernel)",
   "language": "python",
   "name": "python3"
  },
  "language_info": {
   "codemirror_mode": {
    "name": "ipython",
    "version": 3
   },
   "file_extension": ".py",
   "mimetype": "text/x-python",
   "name": "python",
   "nbconvert_exporter": "python",
   "pygments_lexer": "ipython3",
   "version": "3.8.6"
  }
 },
 "nbformat": 4,
 "nbformat_minor": 5
}
