{
 "cells": [
  {
   "cell_type": "code",
   "execution_count": null,
   "id": "stuffed-webcam",
   "metadata": {},
   "outputs": [],
   "source": [
    "import os, sys, inspect\n",
    "\n",
    "currentdir = os.path.dirname(os.path.abspath(inspect.getfile(inspect.currentframe())))\n",
    "parentdir = os.path.dirname(currentdir)\n",
    "sys.path.insert(0, parentdir) \n",
    "\n",
    "from options.test_options import TestOptions\n",
    "from data.data_loader import CreateDataLoader\n",
    "from models.models import create_model\n",
    "\n",
    "from importlib import reload\n",
    "from rewrite_utils import zdataset, show, labwidget, paintwidget, renormalize, nethook, imgviz, pbar, smoothing\n",
    "from PIL import Image\n",
    "import numpy as np\n",
    "import torch"
   ]
  },
  {
   "cell_type": "code",
   "execution_count": null,
   "id": "celtic-institution",
   "metadata": {},
   "outputs": [],
   "source": [
    "#load model\n",
    "cmd = ('--name circle_mask_instance '\n",
    "       '--netG modulated ' \n",
    "       '--input_nc 3 ' \n",
    "       '--label_nc 0 ' \n",
    "       '--dataroot /datasets/lsun_bedrooms/ ' \n",
    "       '--which_epoch 200 ' \n",
    "      ).split()\n",
    "\n",
    "opt = TestOptions().parse(save=False, cmd=cmd)\n",
    "model = create_model(opt)"
   ]
  },
  {
   "cell_type": "code",
   "execution_count": null,
   "id": "sufficient-communications",
   "metadata": {},
   "outputs": [],
   "source": [
    "#load image\n",
    "import torchvision.transforms as transforms\n",
    "from data.base_dataset import __scale_width\n",
    "transforms = transforms.Compose([transforms.Lambda(lambda img: __scale_width(img, opt.loadSize)), \n",
    "              transforms.ToTensor(),\n",
    "              transforms.Normalize((0.5, 0.5, 0.5), (0.5, 0.5, 0.5))])\n",
    "\n",
    "img_path = 'add path to your image here'\n",
    "\n",
    "dims = (256, 256)\n",
    "image = Image.open(img_path).resize(dims, Image.BILINEAR)\n",
    "show(image)\n",
    "baseline = transforms(image.convert('RGB'))"
   ]
  },
  {
   "cell_type": "code",
   "execution_count": null,
   "id": "monthly-problem",
   "metadata": {
    "scrolled": true
   },
   "outputs": [],
   "source": [
    "pw = paintwidget.PaintWidget(image=renormalize.as_url(baseline))\n",
    "def do_reset():\n",
    "    pw.mask = ''\n",
    "reset_btn = labwidget.Button('reset').on('click', do_reset)\n",
    "show([pw, reset_btn])"
   ]
  },
  {
   "cell_type": "code",
   "execution_count": null,
   "id": "bacterial-winning",
   "metadata": {},
   "outputs": [],
   "source": [
    "#get feature map from mask\n",
    "mask = renormalize.from_url(pw.mask, target='pt', size=baseline.shape[1:])[0]"
   ]
  },
  {
   "cell_type": "code",
   "execution_count": null,
   "id": "neural-coalition",
   "metadata": {},
   "outputs": [],
   "source": [
    "#threshold mask\n",
    "\n",
    "mask[mask>0.5] =1\n",
    "mask[mask<=0.5] =0\n",
    "mask = mask\n",
    "show(renormalize.as_image(mask[None]))"
   ]
  },
  {
   "cell_type": "code",
   "execution_count": null,
   "id": "entire-swedish",
   "metadata": {},
   "outputs": [],
   "source": [
    "#blur mask\n",
    "\n",
    "sigma = float(1024) / 16.0\n",
    "kernel_size = (int(sigma) * 2 - 1)\n",
    "blur = smoothing.GaussianSmoothing(1, kernel_size, sigma=sigma)\n",
    "mask_ = blur(mask[None, None])\n",
    "show(renormalize.as_image(mask_[0].repeat(3, 1, 1)))\n"
   ]
  },
  {
   "cell_type": "code",
   "execution_count": null,
   "id": "copyrighted-baptist",
   "metadata": {},
   "outputs": [],
   "source": [
    "#visualize mask on original image\n",
    "\n",
    "mask_copy = torch.clone(mask)\n",
    "mask_img = mask_copy[None]#.repeat(3, 1, 1)\n",
    "\n",
    "temp = torch.clone(mask_copy)\n",
    "temp[temp>0] = torch.max(baseline)\n",
    "temp3 = torch.zeros(temp.shape)\n",
    "temp2 = [temp3, temp3, temp]\n",
    "temp2 = torch.stack(temp2)\n",
    "show(renormalize.as_image(baseline*(1-mask_img)+ temp2))"
   ]
  },
  {
   "cell_type": "code",
   "execution_count": null,
   "id": "quality-italy",
   "metadata": {},
   "outputs": [],
   "source": [
    "#widget for controlling selected light source\n",
    "\n",
    "reload(labwidget)\n",
    "lamp = labwidget.Range()\n",
    "im = labwidget.Image()\n",
    "lc = labwidget.ColorPicker('#ffffff', desc='lamp light color: ')\n",
    "\n",
    "\n",
    "show([['lamp intensity', lamp, lc, im]])\n",
    "\n",
    "\n",
    "def get_lit_scene(image, frac):\n",
    "    generated = model.inference(image.unsqueeze(0), mask_, amount=frac)\n",
    "    return generated\n",
    "\n",
    "im.render(renormalize.as_image(baseline))\n",
    "\n",
    "def readcolor(value):\n",
    "    try:\n",
    "        floatcolor = [float(int(value[i:i+2], 16))/255.0  for i in [1,3,5]]\n",
    "        color = torch.tensor(floatcolor).float()\n",
    "        #print('color', color)\n",
    "        if len(color) == 3:\n",
    "            return color\n",
    "    except:\n",
    "        pass\n",
    "    return torch.tensor([1.0, 1.0, 1.0]).float()\n",
    "\n",
    "def newimage():\n",
    "    def norm_value(vals): \n",
    "        return np.array([(float(val) * 2 - 100) / 100.0 for val in vals])\n",
    "        \n",
    "    lit_lamp = get_lit_scene(baseline, norm_value([lamp.value])).cpu()\n",
    "    \n",
    "    lamp_light = lit_lamp - baseline\n",
    "    \n",
    "    lamp_color = readcolor(lc.value)[:,None,None]\n",
    "    \n",
    "    colored = baseline + (lamp_light * lamp_color) \n",
    "    im.render(renormalize.as_image(colored[0]))\n",
    "\n",
    "lamp.on('value', newimage)\n",
    "#lamp_color.on('value', newimage)\n",
    "lc.on('value', newimage)\n",
    "None"
   ]
  }
 ],
 "metadata": {
  "kernelspec": {
   "display_name": "Python 3",
   "language": "python",
   "name": "python3"
  },
  "language_info": {
   "codemirror_mode": {
    "name": "ipython",
    "version": 3
   },
   "file_extension": ".py",
   "mimetype": "text/x-python",
   "name": "python",
   "nbconvert_exporter": "python",
   "pygments_lexer": "ipython3",
   "version": "3.8.6"
  }
 },
 "nbformat": 4,
 "nbformat_minor": 5
}
